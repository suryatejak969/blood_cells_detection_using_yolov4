{
  "nbformat": 4,
  "nbformat_minor": 0,
  "metadata": {
    "colab": {
      "name": "blood_cell_detection.ipynb",
      "provenance": [],
      "collapsed_sections": []
    },
    "kernelspec": {
      "name": "python3",
      "display_name": "Python 3"
    },
    "language_info": {
      "name": "python"
    },
    "accelerator": "GPU"
  },
  "cells": [
    {
      "cell_type": "markdown",
      "source": [
        "Get the runtime details"
      ],
      "metadata": {
        "id": "FDR9MaVGZ_nB"
      }
    },
    {
      "cell_type": "code",
      "execution_count": null,
      "metadata": {
        "id": "kiMeIc4uYvjh"
      },
      "outputs": [],
      "source": [
        "%cat /etc/lsb-release"
      ]
    },
    {
      "cell_type": "markdown",
      "source": [
        "Update the repo list"
      ],
      "metadata": {
        "id": "peRlE7qraQmd"
      }
    },
    {
      "cell_type": "code",
      "source": [
        "!apt-get update"
      ],
      "metadata": {
        "id": "70t1cYRfaIRt"
      },
      "execution_count": null,
      "outputs": []
    },
    {
      "cell_type": "code",
      "source": [
        "%pwd"
      ],
      "metadata": {
        "colab": {
          "base_uri": "https://localhost:8080/",
          "height": 35
        },
        "id": "RV5ODncQaYaB",
        "outputId": "278dfc8f-314b-4563-a7d5-0c06bec7880b"
      },
      "execution_count": 6,
      "outputs": [
        {
          "output_type": "execute_result",
          "data": {
            "application/vnd.google.colaboratory.intrinsic+json": {
              "type": "string"
            },
            "text/plain": [
              "'/content'"
            ]
          },
          "metadata": {},
          "execution_count": 6
        }
      ]
    },
    {
      "cell_type": "code",
      "source": [
        "!unzip \"/content/drive/MyDrive/bcd_detection/darknet.zip\""
      ],
      "metadata": {
        "id": "1A6LWwBTarKF"
      },
      "execution_count": null,
      "outputs": []
    },
    {
      "cell_type": "code",
      "source": [
        "%cd /content/darknet"
      ],
      "metadata": {
        "colab": {
          "base_uri": "https://localhost:8080/"
        },
        "id": "rBEhq_H2a7XZ",
        "outputId": "74b0bc24-75de-4e35-868f-3d2949c0c20e"
      },
      "execution_count": 5,
      "outputs": [
        {
          "output_type": "stream",
          "name": "stdout",
          "text": [
            "/content/darknet\n"
          ]
        }
      ]
    },
    {
      "cell_type": "code",
      "source": [
        "!make"
      ],
      "metadata": {
        "id": "JUzys0OSbLpo"
      },
      "execution_count": null,
      "outputs": []
    },
    {
      "cell_type": "code",
      "source": [
        "!./darknet detector test cfg/coco.data cfg/yolov4.cfg yolov4.weights data/person.jpg"
      ],
      "metadata": {
        "id": "LGS2dcB8b2D4"
      },
      "execution_count": null,
      "outputs": []
    },
    {
      "cell_type": "code",
      "source": [
        "!rm /content/darknet/backup -r"
      ],
      "metadata": {
        "id": "THxtBUjKdB70"
      },
      "execution_count": 8,
      "outputs": []
    },
    {
      "cell_type": "code",
      "source": [
        "!ln -s /content/drive/'MyDrive'/bcd_weights/backup /content/darknet"
      ],
      "metadata": {
        "id": "c2RX2o-sdyRe"
      },
      "execution_count": 9,
      "outputs": []
    },
    {
      "cell_type": "code",
      "source": [
        "%pwd"
      ],
      "metadata": {
        "colab": {
          "base_uri": "https://localhost:8080/",
          "height": 35
        },
        "id": "eWwwpDUseGCd",
        "outputId": "13aba746-2c25-4ed9-875c-c77a61554ae2"
      },
      "execution_count": 14,
      "outputs": [
        {
          "output_type": "execute_result",
          "data": {
            "application/vnd.google.colaboratory.intrinsic+json": {
              "type": "string"
            },
            "text/plain": [
              "'/content/darknet'"
            ]
          },
          "metadata": {},
          "execution_count": 14
        }
      ]
    },
    {
      "cell_type": "code",
      "source": [
        "!./darknet detector train bcd_data/bcd.data bcd_yolov4.cfg yolov4.conv.137 -map -dont_show"
      ],
      "metadata": {
        "id": "oEUJn7rEeY1M"
      },
      "execution_count": null,
      "outputs": []
    },
    {
      "cell_type": "code",
      "source": [
        "!./darknet detector train bcd_data/bcd.data bcd_yolov4.cfg /content/drive/'MyDrive'/bcd_weights/backup/bcd_yolov4_last.weights -map -dont_show"
      ],
      "metadata": {
        "id": "Bgqt_mtle9P5"
      },
      "execution_count": null,
      "outputs": []
    },
    {
      "cell_type": "code",
      "source": [
        "!./darknet detector train bcd_data/bcd.data bcd_yolov4.cfg /content/drive/'MyDrive'/bcd_weights/backup/bcd_yolov4_best.weights -map -dont_show"
      ],
      "metadata": {
        "id": "NT-enfE1qASM"
      },
      "execution_count": null,
      "outputs": []
    },
    {
      "cell_type": "code",
      "source": [
        ""
      ],
      "metadata": {
        "id": "-pTv2TKD88u1"
      },
      "execution_count": null,
      "outputs": []
    }
  ]
}